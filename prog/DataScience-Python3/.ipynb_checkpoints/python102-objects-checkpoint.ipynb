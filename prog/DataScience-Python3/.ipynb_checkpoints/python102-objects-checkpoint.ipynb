{
 "cells": [
  {
   "cell_type": "markdown",
   "metadata": {},
   "source": [
    "This shows some object stuff"
   ]
  },
  {
   "cell_type": "code",
   "execution_count": 23,
   "metadata": {
    "collapsed": false
   },
   "outputs": [],
   "source": [
    "class employee:\n",
    "    'This is the base employee class'\n",
    "    empCount = 0 # class variable whos value is hsared among all instances of this class. Weird!\n",
    "    \n",
    "    def __init__(self,name,salary): #constructor\n",
    "        self.name = name\n",
    "        self.salary=salary\n",
    "        employee.empCount +=1\n",
    "        \n",
    "    def displayCount(self):\n",
    "        print(\"Total employees %d\" % (employee.empCount))\n",
    "        \n",
    "    def displayEmployee(self):\n",
    "        print(\"Name: %s, Salary: %d\" % (self.name,self.salary))\n",
    "    "
   ]
  },
  {
   "cell_type": "code",
   "execution_count": 33,
   "metadata": {
    "collapsed": false
   },
   "outputs": [
    {
     "name": "stdout",
     "output_type": "stream",
     "text": [
      "4\n",
      "Name: Zara, Salary: 20000\n",
      "Total employees 4\n"
     ]
    }
   ],
   "source": [
    "emp1 = employee(\"Zara\",20000)\n",
    "emp2 = employee(\"Michael\",50000)\n",
    "print(employee.empCount)\n",
    "emp1.displayEmployee()\n",
    "emp1.displayCount()"
   ]
  },
  {
   "cell_type": "code",
   "execution_count": 36,
   "metadata": {
    "collapsed": false
   },
   "outputs": [],
   "source": [
    "hasattr(emp1,'age')\n",
    "getattr(emp1,'name')\n",
    "setattr(emp1,'salary',2)"
   ]
  },
  {
   "cell_type": "code",
   "execution_count": 37,
   "metadata": {
    "collapsed": false
   },
   "outputs": [
    {
     "name": "stdout",
     "output_type": "stream",
     "text": [
      "This is the base employee class\n"
     ]
    }
   ],
   "source": [
    "print(employee.__doc__)"
   ]
  },
  {
   "cell_type": "code",
   "execution_count": 38,
   "metadata": {
    "collapsed": false
   },
   "outputs": [
    {
     "name": "stdout",
     "output_type": "stream",
     "text": [
      "{'displayEmployee': <function employee.displayEmployee at 0x104b1dbf8>, '__init__': <function employee.__init__ at 0x104b29730>, '__dict__': <attribute '__dict__' of 'employee' objects>, '__doc__': 'This is the base employee class', 'displayCount': <function employee.displayCount at 0x104b290d0>, '__module__': '__main__', '__weakref__': <attribute '__weakref__' of 'employee' objects>, 'empCount': 4}\n"
     ]
    }
   ],
   "source": [
    "print(employee.__dict__)"
   ]
  },
  {
   "cell_type": "markdown",
   "metadata": {},
   "source": [
    "## Garbage collection"
   ]
  },
  {
   "cell_type": "code",
   "execution_count": 41,
   "metadata": {
    "collapsed": true
   },
   "outputs": [],
   "source": [
    "a = 40      # Create object <40>\n",
    "b = a       # Increase ref. count  of <40> \n",
    "c = [b]     # Increase ref. count  of <40> \n",
    "\n",
    "del a       # Decrease ref. count  of <40>\n",
    "b = 100     # Decrease ref. count  of <40> \n",
    "c[0] = -1   # Decrease ref. count  of <40> "
   ]
  },
  {
   "cell_type": "markdown",
   "metadata": {},
   "source": [
    "A constructor can have a __del__ method which is run just before garbage collection deletes the object"
   ]
  },
  {
   "cell_type": "code",
   "execution_count": 1,
   "metadata": {
    "collapsed": false
   },
   "outputs": [
    {
     "name": "stdout",
     "output_type": "stream",
     "text": [
      "4373897680 4373897680 4373897680\n",
      "point destroyed\n"
     ]
    }
   ],
   "source": [
    "class point:\n",
    "    'doc'\n",
    "    \n",
    "    def __init__(self,x,y):\n",
    "        self.x = x\n",
    "        self.y = y\n",
    "        \n",
    "    def __del__(self):\n",
    "        className = self.__class__.__name__\n",
    "        print(\"%s destroyed\" % (className))\n",
    "        \n",
    "pt1 = point(3,4)\n",
    "pt2 = pt1\n",
    "pt3 = pt1\n",
    "print(id(pt1), id(pt2), id(pt3))\n",
    "del pt1\n",
    "del pt2\n",
    "del pt3"
   ]
  },
  {
   "cell_type": "markdown",
   "metadata": {},
   "source": [
    "## Class inhertiance"
   ]
  },
  {
   "cell_type": "code",
   "execution_count": 51,
   "metadata": {
    "collapsed": false
   },
   "outputs": [
    {
     "name": "stdout",
     "output_type": "stream",
     "text": [
      "Calling child constructor\n",
      "Calling parent method\n",
      "Calling myMethod from Child\n"
     ]
    },
    {
     "data": {
      "text/plain": [
       "10"
      ]
     },
     "execution_count": 51,
     "metadata": {},
     "output_type": "execute_result"
    }
   ],
   "source": [
    "class parent:\n",
    "    'Parent doc'\n",
    "    ParentVar=10\n",
    "    \n",
    "    def __init__(self):\n",
    "        print(\"Calling parent constructor\")\n",
    "        \n",
    "    def parentMethod(self):\n",
    "        print(\"Calling parent method\")\n",
    "        \n",
    "    def myMethod(self):\n",
    "        print(\"Calling myMethod from Parent\")\n",
    "        \n",
    "        \n",
    "class child(parent):\n",
    "    'Child doc'\n",
    "    \n",
    "    def __init__(self):\n",
    "        print(\"Calling child constructor\")\n",
    "        \n",
    "    def myMethod(self):\n",
    "        print(\"Calling myMethod from Child\")\n",
    "        \n",
    "c = child()\n",
    "c.parentMethod()\n",
    "c.myMethod()\n",
    "c.ParentVar"
   ]
  },
  {
   "cell_type": "code",
   "execution_count": 55,
   "metadata": {
    "collapsed": false
   },
   "outputs": [
    {
     "name": "stdout",
     "output_type": "stream",
     "text": [
      "Vector 7,8\n"
     ]
    }
   ],
   "source": [
    "class Vector:\n",
    "    def __init__(self,a,b):\n",
    "        self.a = a\n",
    "        self.b = b\n",
    "        \n",
    "    def __str__(self):\n",
    "        return 'Vector %d,%d' % (self.a,self.b)\n",
    "    \n",
    "    def __add__(self,other):\n",
    "        return Vector(self.a+other.a,self.b+other.b)\n",
    "        \n",
    "v1 = Vector(2,10)\n",
    "v2 = Vector(5,-2)\n",
    "print (v1 + v2)\n"
   ]
  },
  {
   "cell_type": "code",
   "execution_count": null,
   "metadata": {
    "collapsed": true
   },
   "outputs": [],
   "source": []
  }
 ],
 "metadata": {
  "kernelspec": {
   "display_name": "Python [conda root]",
   "language": "python",
   "name": "conda-root-py"
  },
  "language_info": {
   "codemirror_mode": {
    "name": "ipython",
    "version": 3
   },
   "file_extension": ".py",
   "mimetype": "text/x-python",
   "name": "python",
   "nbconvert_exporter": "python",
   "pygments_lexer": "ipython3",
   "version": "3.5.2"
  }
 },
 "nbformat": 4,
 "nbformat_minor": 1
}
