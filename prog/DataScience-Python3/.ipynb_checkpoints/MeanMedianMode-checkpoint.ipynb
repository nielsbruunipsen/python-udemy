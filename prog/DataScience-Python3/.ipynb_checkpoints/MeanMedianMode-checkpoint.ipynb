{
 "cells": [
  {
   "cell_type": "markdown",
   "metadata": {},
   "source": [
    "# Mean, Median, Mode, and introducing NumPy"
   ]
  },
  {
   "cell_type": "markdown",
   "metadata": {},
   "source": [
    "## Mean vs. Median"
   ]
  },
  {
   "cell_type": "markdown",
   "metadata": {},
   "source": [
    "Let's create some fake income data, centered around 27,000 with a normal distribution and standard deviation of 15,000, with 10,000 data points. (We'll discuss those terms more later, if you're not familiar with them.)\n",
    "\n",
    "Then, compute the mean (average) - it should be close to 27,000:"
   ]
  },
  {
   "cell_type": "code",
   "execution_count": 4,
   "metadata": {
    "collapsed": false
   },
   "outputs": [
    {
     "data": {
      "text/plain": [
       "27042.444639413679"
      ]
     },
     "execution_count": 4,
     "metadata": {},
     "output_type": "execute_result"
    }
   ],
   "source": [
    "import numpy as np\n",
    "\n",
    "incomes = np.random.normal(27000, 15000, 10000)\n",
    "np.mean(incomes)"
   ]
  },
  {
   "cell_type": "markdown",
   "metadata": {},
   "source": [
    "We can segment the income data into 50 buckets, and plot it as a histogram:"
   ]
  },
  {
   "cell_type": "code",
   "execution_count": 6,
   "metadata": {
    "collapsed": false
   },
   "outputs": [
    {
     "data": {
      "image/png": "[encoded data removed]",
      "text/plain": [
       "<matplotlib.figure.Figure at 0x10ad34dd8>"
      ]
     },
     "metadata": {},
     "output_type": "display_data"
    }
   ],
   "source": [
    "%matplotlib inline\n",
    "import matplotlib.pyplot as plt\n",
    "plt.hist(incomes, 50)\n",
    "plt.show()"
   ]
  },
  {
   "cell_type": "markdown",
   "metadata": {},
   "source": [
    "Now compute the median - since we have a nice, even distribution it too should be close to 27,000:"
   ]
  },
  {
   "cell_type": "code",
   "execution_count": 7,
   "metadata": {
    "collapsed": false
   },
   "outputs": [
    {
     "data": {
      "text/plain": [
       "27061.834966909912"
      ]
     },
     "execution_count": 7,
     "metadata": {},
     "output_type": "execute_result"
    }
   ],
   "source": [
    "np.median(incomes)"
   ]
  },
  {
   "cell_type": "markdown",
   "metadata": {},
   "source": [
    "Now we'll add Donald Trump into the mix. Darn income inequality!"
   ]
  },
  {
   "cell_type": "code",
   "execution_count": 8,
   "metadata": {
    "collapsed": false
   },
   "outputs": [],
   "source": [
    "incomes = np.append(incomes, [1000000000])"
   ]
  },
  {
   "cell_type": "markdown",
   "metadata": {},
   "source": [
    "The median won't change much, but the mean does:"
   ]
  },
  {
   "cell_type": "code",
   "execution_count": 9,
   "metadata": {
    "collapsed": false
   },
   "outputs": [
    {
     "data": {
      "text/plain": [
       "27063.370690465559"
      ]
     },
     "execution_count": 9,
     "metadata": {},
     "output_type": "execute_result"
    }
   ],
   "source": [
    "np.median(incomes)"
   ]
  },
  {
   "cell_type": "code",
   "execution_count": 10,
   "metadata": {
    "collapsed": false
   },
   "outputs": [
    {
     "data": {
      "text/plain": [
       "127029.74166524717"
      ]
     },
     "execution_count": 10,
     "metadata": {},
     "output_type": "execute_result"
    }
   ],
   "source": [
    "np.mean(incomes)"
   ]
  },
  {
   "cell_type": "markdown",
   "metadata": {},
   "source": [
    "## Mode"
   ]
  },
  {
   "cell_type": "markdown",
   "metadata": {},
   "source": [
    "Next, let's generate some fake age data for 500 people:"
   ]
  },
  {
   "cell_type": "code",
   "execution_count": 16,
   "metadata": {
    "collapsed": false
   },
   "outputs": [
    {
     "data": {
      "text/plain": [
       "array([53, 28, 50, 25, 88, 77, 39, 24, 64, 86, 86, 71, 66, 77, 54, 20, 18,\n",
       "       48, 29, 30, 61, 27, 77, 58, 74, 87, 51, 42, 54, 22, 76, 76, 43, 25,\n",
       "       46, 18, 66, 18, 87, 83, 65, 43, 63, 29, 44, 52, 57, 23, 27, 64, 27,\n",
       "       40, 74, 40, 18, 65, 84, 83, 56, 87, 20, 38, 30, 74, 66, 29, 47, 76,\n",
       "       37, 68, 36, 68, 38, 68, 45, 20, 18, 51, 66, 70, 89, 61, 49, 87, 51,\n",
       "       74, 53, 37, 60, 25, 85, 26, 59, 37, 36, 18, 87, 24, 60, 41, 60, 67,\n",
       "       80, 80, 32, 45, 59, 31, 54, 58, 48, 58, 74, 86, 81, 71, 83, 32, 46,\n",
       "       18, 64, 87, 54, 52, 53, 53, 33, 50, 50, 89, 63, 26, 71, 76, 70, 51,\n",
       "       24, 36, 81, 30, 21, 25, 69, 76, 78, 50, 41, 89, 61, 49, 65, 57, 66,\n",
       "       62, 32, 81, 54, 89, 88, 59, 20, 85, 22, 37, 63, 66, 32, 77, 66, 65,\n",
       "       47, 37, 19, 58, 65, 45, 63, 42, 69, 41, 31, 45, 59, 73, 36, 67, 33,\n",
       "       86, 19, 18, 48, 18, 83, 66, 58, 45, 79, 18, 21, 43, 76, 51, 46, 63,\n",
       "       61, 49, 23, 72, 60, 88, 73, 69, 39, 44, 25, 41, 81, 79, 40, 88, 21,\n",
       "       57, 52, 67, 48, 84, 73, 53, 81, 30, 49, 85, 64, 36, 39, 78, 59, 26,\n",
       "       89, 36, 63, 38, 84, 27, 37, 33, 28, 76, 54, 85, 34, 28, 28, 32, 41,\n",
       "       66, 65, 22, 78, 26, 29, 72, 36, 25, 48, 75, 21, 40, 44, 22, 37, 39,\n",
       "       61, 54, 83, 65, 20, 79, 49, 67, 33, 54, 77, 33, 47, 37, 51, 44, 43,\n",
       "       38, 48, 65, 64, 33, 73, 86, 69, 30, 61, 54, 21, 69, 31, 65, 84, 86,\n",
       "       87, 38, 19, 78, 30, 36, 54, 60, 56, 33, 82, 21, 27, 80, 27, 83, 38,\n",
       "       64, 64, 36, 52, 28, 69, 52, 84, 49, 21, 87, 70, 69, 35, 41, 73, 45,\n",
       "       38, 69, 29, 40, 86, 87, 66, 25, 79, 22, 57, 67, 36, 26, 53, 59, 78,\n",
       "       43, 75, 70, 24, 66, 25, 67, 63, 49, 77, 31, 32, 59, 22, 69, 88, 27,\n",
       "       67, 74, 74, 32, 67, 21, 81, 44, 32, 64, 54, 44, 38, 20, 31, 35, 29,\n",
       "       27, 66, 49, 35, 87, 58, 75, 73, 53, 64, 50, 38, 72, 27, 81, 25, 56,\n",
       "       84, 43, 56, 61, 69, 61, 58, 83, 82, 88, 67, 34, 28, 49, 42, 29, 49,\n",
       "       29, 77, 84, 68, 67, 30, 48, 32, 84, 31, 56, 20, 26, 21, 45, 63, 83,\n",
       "       82, 57, 34, 41, 35, 81, 44, 41, 78, 21, 71, 38, 33, 46, 62, 31, 76,\n",
       "       47, 89, 89, 43, 67, 33, 68, 58, 42, 21, 24, 87, 85, 26, 55, 58, 20,\n",
       "       31, 86, 38, 21, 70, 28, 71, 60, 37, 37, 87, 33, 36, 87, 20, 82, 31,\n",
       "       56, 36, 33, 72, 49, 47, 76])"
      ]
     },
     "execution_count": 16,
     "metadata": {},
     "output_type": "execute_result"
    }
   ],
   "source": [
    "ages = np.random.randint(18, high=90, size=500)\n",
    "ages"
   ]
  },
  {
   "cell_type": "code",
   "execution_count": 17,
   "metadata": {
    "collapsed": false
   },
   "outputs": [
    {
     "data": {
      "text/plain": [
       "ModeResult(mode=array([87]), count=array([13]))"
      ]
     },
     "execution_count": 17,
     "metadata": {},
     "output_type": "execute_result"
    }
   ],
   "source": [
    "from scipy import stats\n",
    "stats.mode(ages)"
   ]
  },
  {
   "cell_type": "code",
   "execution_count": null,
   "metadata": {
    "collapsed": false
   },
   "outputs": [],
   "source": []
  }
 ],
 "metadata": {
  "kernelspec": {
   "display_name": "Python [conda root]",
   "language": "python",
   "name": "conda-root-py"
  },
  "language_info": {
   "codemirror_mode": {
    "name": "ipython",
    "version": 3
   },
   "file_extension": ".py",
   "mimetype": "text/x-python",
   "name": "python",
   "nbconvert_exporter": "python",
   "pygments_lexer": "ipython3",
   "version": "3.5.2"
  }
 },
 "nbformat": 4,
 "nbformat_minor": 0
}
