{
 "cells": [
  {
   "cell_type": "markdown",
   "metadata": {},
   "source": [
    "# Naive Bayes (the easy way)"
   ]
  },
  {
   "cell_type": "markdown",
   "metadata": {},
   "source": [
    "We'll cheat by using sklearn.naive_bayes to train a spam classifier! Most of the code is just loading our training data into a pandas DataFrame that we can play with:"
   ]
  },
  {
   "cell_type": "code",
   "execution_count": 25,
   "metadata": {
    "collapsed": false
   },
   "outputs": [
    {
     "name": "stdout",
     "output_type": "stream",
     "text": [
      "/Users/nielsipsen/proj/python/python-udemy/prog/DataScience-Python3/emails/spam\n"
     ]
    }
   ],
   "source": [
    "import os\n",
    "import io\n",
    "import numpy\n",
    "from pandas import DataFrame\n",
    "from sklearn.feature_extraction.text import CountVectorizer\n",
    "from sklearn.naive_bayes import MultinomialNB\n",
    "\n",
    "def readFiles(path):\n",
    "    for root, dirnames, filenames in os.walk(path):\n",
    "        for filename in filenames:\n",
    "            path = os.path.join(root, filename)\n",
    "\n",
    "            inBody = False\n",
    "            lines = []\n",
    "            f = io.open(path, 'r', encoding='latin1')\n",
    "            for line in f:\n",
    "                if inBody:\n",
    "                    lines.append(line)\n",
    "                elif line == '\\n':\n",
    "                    inBody = True\n",
    "            f.close()\n",
    "            message = '\\n'.join(lines)\n",
    "            yield path, message\n",
    "\n",
    "\n",
    "def dataFrameFromDirectory(path, classification):\n",
    "    rows = []\n",
    "    index = []\n",
    "    for filename, message in readFiles(path):\n",
    "        rows.append({'message': message, 'class': classification})\n",
    "        index.append(filename)\n",
    "\n",
    "    return DataFrame(rows, index=index)\n",
    "\n",
    "data = DataFrame({'message': [], 'class': []})\n",
    "\n",
    "data = data.append(dataFrameFromDirectory('/Users/nielsipsen/proj/python/python-udemy/prog/DataScience-Python3/emails/spam', 'spam'))\n",
    "data = data.append(dataFrameFromDirectory('/Users/nielsipsen/proj/python/python-udemy/prog/DataScience-Python3/emails/emails/ham', 'ham'))\n",
    "\n",
    "for root, dirnames, filenames in os.walk('/Users/nielsipsen/proj/python/python-udemy/prog/DataScience-Python3/emails/spam'):\n",
    "    print(root)\n"
   ]
  },
  {
   "cell_type": "markdown",
   "metadata": {},
   "source": [
    "Let's have a look at that DataFrame:"
   ]
  },
  {
   "cell_type": "code",
   "execution_count": 26,
   "metadata": {
    "collapsed": false
   },
   "outputs": [
    {
     "data": {
      "text/html": [
       "<div>\n",
       "<table border=\"1\" class=\"dataframe\">\n",
       "  <thead>\n",
       "    <tr style=\"text-align: right;\">\n",
       "      <th></th>\n",
       "      <th>class</th>\n",
       "      <th>message</th>\n",
       "    </tr>\n",
       "  </thead>\n",
       "  <tbody>\n",
       "    <tr>\n",
       "      <th>/Users/nielsipsen/proj/python/python-udemy/prog/DataScience-Python3/emails/spam/00001.7848dde101aa985090474a91ec93fcf0</th>\n",
       "      <td>spam</td>\n",
       "      <td>&lt;!DOCTYPE HTML PUBLIC \"-//W3C//DTD HTML 4.0 Tr...</td>\n",
       "    </tr>\n",
       "    <tr>\n",
       "      <th>/Users/nielsipsen/proj/python/python-udemy/prog/DataScience-Python3/emails/spam/00002.d94f1b97e48ed3b553b3508d116e6a09</th>\n",
       "      <td>spam</td>\n",
       "      <td>1) Fight The Risk of Cancer!\\n\\nhttp://www.adc...</td>\n",
       "    </tr>\n",
       "    <tr>\n",
       "      <th>/Users/nielsipsen/proj/python/python-udemy/prog/DataScience-Python3/emails/spam/00003.2ee33bc6eacdb11f38d052c44819ba6c</th>\n",
       "      <td>spam</td>\n",
       "      <td>1) Fight The Risk of Cancer!\\n\\nhttp://www.adc...</td>\n",
       "    </tr>\n",
       "    <tr>\n",
       "      <th>/Users/nielsipsen/proj/python/python-udemy/prog/DataScience-Python3/emails/spam/00004.eac8de8d759b7e74154f142194282724</th>\n",
       "      <td>spam</td>\n",
       "      <td>##############################################...</td>\n",
       "    </tr>\n",
       "    <tr>\n",
       "      <th>/Users/nielsipsen/proj/python/python-udemy/prog/DataScience-Python3/emails/spam/00005.57696a39d7d84318ce497886896bf90d</th>\n",
       "      <td>spam</td>\n",
       "      <td>I thought you might like these:\\n\\n1) Slim Dow...</td>\n",
       "    </tr>\n",
       "  </tbody>\n",
       "</table>\n",
       "</div>"
      ],
      "text/plain": [
       "                                                   class  \\\n",
       "/Users/nielsipsen/proj/python/python-udemy/prog...  spam   \n",
       "/Users/nielsipsen/proj/python/python-udemy/prog...  spam   \n",
       "/Users/nielsipsen/proj/python/python-udemy/prog...  spam   \n",
       "/Users/nielsipsen/proj/python/python-udemy/prog...  spam   \n",
       "/Users/nielsipsen/proj/python/python-udemy/prog...  spam   \n",
       "\n",
       "                                                                                              message  \n",
       "/Users/nielsipsen/proj/python/python-udemy/prog...  <!DOCTYPE HTML PUBLIC \"-//W3C//DTD HTML 4.0 Tr...  \n",
       "/Users/nielsipsen/proj/python/python-udemy/prog...  1) Fight The Risk of Cancer!\\n\\nhttp://www.adc...  \n",
       "/Users/nielsipsen/proj/python/python-udemy/prog...  1) Fight The Risk of Cancer!\\n\\nhttp://www.adc...  \n",
       "/Users/nielsipsen/proj/python/python-udemy/prog...  ##############################################...  \n",
       "/Users/nielsipsen/proj/python/python-udemy/prog...  I thought you might like these:\\n\\n1) Slim Dow...  "
      ]
     },
     "execution_count": 26,
     "metadata": {},
     "output_type": "execute_result"
    }
   ],
   "source": [
    "data.head()"
   ]
  },
  {
   "cell_type": "markdown",
   "metadata": {},
   "source": [
    "Now we will use a CountVectorizer to split up each message into its list of words, and throw that into a MultinomialNB classifier. Call fit() and we've got a trained spam filter ready to go! It's just that easy."
   ]
  },
  {
   "cell_type": "code",
   "execution_count": 27,
   "metadata": {
    "collapsed": false
   },
   "outputs": [
    {
     "name": "stdout",
     "output_type": "stream",
     "text": [
      "  (0, 12496)\t1\n",
      "  (0, 17635)\t5\n",
      "  (0, 27488)\t1\n",
      "  (0, 35042)\t1\n",
      "  (0, 12977)\t1\n",
      "  (0, 32767)\t1\n",
      "  (0, 13775)\t1\n",
      "  (0, 17025)\t2\n",
      "  (0, 22954)\t2\n",
      "  (0, 10959)\t2\n",
      "  (0, 2233)\t28\n",
      "  (0, 32210)\t1\n",
      "  (0, 10181)\t1\n",
      "  (0, 2421)\t1\n",
      "  (0, 660)\t1\n",
      "  (0, 17643)\t2\n",
      "  (0, 13991)\t1\n",
      "  (0, 2336)\t1\n",
      "  (0, 37605)\t1\n",
      "  (0, 23530)\t1\n",
      "  (0, 0)\t1\n",
      "  (0, 1424)\t1\n",
      "  (0, 512)\t1\n",
      "  (0, 23930)\t1\n",
      "  (0, 2351)\t1\n",
      "  :\t:\n",
      "  (499, 39360)\t1\n",
      "  (499, 38874)\t1\n",
      "  (499, 39347)\t1\n",
      "  (499, 39115)\t1\n",
      "  (499, 23802)\t1\n",
      "  (499, 16712)\t2\n",
      "  (499, 39332)\t2\n",
      "  (499, 39331)\t2\n",
      "  (499, 39507)\t2\n",
      "  (499, 38872)\t2\n",
      "  (499, 39386)\t1\n",
      "  (499, 39452)\t1\n",
      "  (499, 39283)\t1\n",
      "  (499, 38900)\t1\n",
      "  (499, 38955)\t1\n",
      "  (499, 38883)\t1\n",
      "  (499, 39328)\t1\n",
      "  (499, 38958)\t1\n",
      "  (499, 39468)\t1\n",
      "  (499, 39090)\t1\n",
      "  (499, 38957)\t1\n",
      "  (499, 38823)\t1\n",
      "  (499, 39503)\t1\n",
      "  (499, 22391)\t1\n",
      "  (499, 29868)\t1\n"
     ]
    }
   ],
   "source": [
    "vectorizer = CountVectorizer()\n",
    "counts = vectorizer.fit_transform(data['message'].values)\n",
    "print(counts)\n"
   ]
  },
  {
   "cell_type": "code",
   "execution_count": null,
   "metadata": {
    "collapsed": false
   },
   "outputs": [],
   "source": []
  },
  {
   "cell_type": "code",
   "execution_count": 29,
   "metadata": {
    "collapsed": false
   },
   "outputs": [
    {
     "data": {
      "text/plain": [
       "MultinomialNB(alpha=1.0, class_prior=None, fit_prior=True)"
      ]
     },
     "execution_count": 29,
     "metadata": {},
     "output_type": "execute_result"
    }
   ],
   "source": [
    "classifier = MultinomialNB()\n",
    "targets = data['class'].values\n",
    "classifier.fit(counts, targets)"
   ]
  },
  {
   "cell_type": "markdown",
   "metadata": {},
   "source": [
    "Let's try it out:"
   ]
  },
  {
   "cell_type": "code",
   "execution_count": 30,
   "metadata": {
    "collapsed": false
   },
   "outputs": [
    {
     "data": {
      "text/plain": [
       "array(['spam', 'spam'], \n",
       "      dtype='<U4')"
      ]
     },
     "execution_count": 30,
     "metadata": {},
     "output_type": "execute_result"
    }
   ],
   "source": [
    "examples = ['Free Viagra now!!!', \"Hi Bob, how about a game of golf tomorrow?\"]\n",
    "example_counts = vectorizer.transform(examples)\n",
    "predictions = classifier.predict(example_counts)\n",
    "predictions"
   ]
  },
  {
   "cell_type": "markdown",
   "metadata": {},
   "source": [
    "## Activity"
   ]
  },
  {
   "cell_type": "markdown",
   "metadata": {},
   "source": [
    "Our data set is small, so our spam classifier isn't actually very good. Try running some different test emails through it and see if you get the results you expect.\n",
    "\n",
    "If you really want to challenge yourself, try applying train/test to this spam classifier - see how well it can predict some subset of the ham and spam emails."
   ]
  },
  {
   "cell_type": "code",
   "execution_count": 31,
   "metadata": {
    "collapsed": false
   },
   "outputs": [
    {
     "data": {
      "text/plain": [
       "array(['spam', 'spam', 'spam'], \n",
       "      dtype='<U4')"
      ]
     },
     "execution_count": 31,
     "metadata": {},
     "output_type": "execute_result"
    }
   ],
   "source": [
    "examples = ['Free','are you free tonight? we could go out golfing or something','Hi Bob, how about a game of golf tomorrow? ']\n",
    "example_counts = vectorizer.transform(examples)\n",
    "predictions = classifier.predict(example_counts)\n",
    "predictions"
   ]
  },
  {
   "cell_type": "code",
   "execution_count": null,
   "metadata": {
    "collapsed": true
   },
   "outputs": [],
   "source": []
  }
 ],
 "metadata": {
  "kernelspec": {
   "display_name": "Python [conda root]",
   "language": "python",
   "name": "conda-root-py"
  },
  "language_info": {
   "codemirror_mode": {
    "name": "ipython",
    "version": 3
   },
   "file_extension": ".py",
   "mimetype": "text/x-python",
   "name": "python",
   "nbconvert_exporter": "python",
   "pygments_lexer": "ipython3",
   "version": "3.5.2"
  }
 },
 "nbformat": 4,
 "nbformat_minor": 0
}
